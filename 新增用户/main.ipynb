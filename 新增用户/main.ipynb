{
 "cells": [
  {
   "cell_type": "markdown",
   "id": "29f92b34",
   "metadata": {},
   "source": [
    "# 任务2"
   ]
  },
  {
   "cell_type": "code",
   "execution_count": 2,
   "id": "05c00e79-ed17-4afe-b231-e4e2ea0121d4",
   "metadata": {
    "execution": {
     "iopub.execute_input": "2023-08-14T13:19:08.639111Z",
     "iopub.status.busy": "2023-08-14T13:19:08.638338Z",
     "iopub.status.idle": "2023-08-14T13:19:10.679540Z",
     "shell.execute_reply": "2023-08-14T13:19:10.678300Z",
     "shell.execute_reply.started": "2023-08-14T13:19:08.639070Z"
    },
    "scrolled": true,
    "tags": []
   },
   "outputs": [],
   "source": [
    "import pandas as pd\n",
    "import numpy as np\n",
    "\n",
    "train_data = pd.read_csv('用户新增预测挑战赛公开数据/train.csv')\n",
    "test_data = pd.read_csv('用户新增预测挑战赛公开数据/test.csv')\n",
    "\n",
    "train_data['common_ts'] = pd.to_datetime(train_data['common_ts'], unit='ms')\n",
    "test_data['common_ts'] = pd.to_datetime(test_data['common_ts'], unit='ms')"
   ]
  },
  {
   "cell_type": "code",
   "execution_count": 3,
   "id": "42d9192c-eb77-43e1-8eeb-4da8ef6ceab6",
   "metadata": {
    "execution": {
     "iopub.execute_input": "2023-08-14T13:19:10.682689Z",
     "iopub.status.busy": "2023-08-14T13:19:10.682244Z",
     "iopub.status.idle": "2023-08-14T13:19:23.300971Z",
     "shell.execute_reply": "2023-08-14T13:19:23.299405Z",
     "shell.execute_reply.started": "2023-08-14T13:19:10.682660Z"
    },
    "scrolled": true,
    "tags": []
   },
   "outputs": [],
   "source": [
    "def udmap_onethot(d):\n",
    "    v = np.zeros(9)\n",
    "    if d == 'unknown':\n",
    "        return v\n",
    "    \n",
    "    d = eval(d)\n",
    "    for i in range(1, 10):\n",
    "        if 'key' + str(i) in d:\n",
    "            v[i-1] = d['key' + str(i)]\n",
    "            \n",
    "    return v\n",
    "\n",
    "train_udmap_df = pd.DataFrame(np.vstack(train_data['udmap'].apply(udmap_onethot)))\n",
    "test_udmap_df = pd.DataFrame(np.vstack(test_data['udmap'].apply(udmap_onethot)))\n",
    "\n",
    "train_udmap_df.columns = ['key' + str(i) for i in range(1, 10)]\n",
    "test_udmap_df.columns = ['key' + str(i) for i in range(1, 10)]"
   ]
  },
  {
   "cell_type": "code",
   "execution_count": 9,
   "id": "f495c868-9ada-4a2b-9474-b08a4c2f9a34",
   "metadata": {
    "execution": {
     "iopub.execute_input": "2023-08-14T13:40:34.934083Z",
     "iopub.status.busy": "2023-08-14T13:40:34.933428Z",
     "iopub.status.idle": "2023-08-14T13:40:35.060966Z",
     "shell.execute_reply": "2023-08-14T13:40:35.059994Z",
     "shell.execute_reply.started": "2023-08-14T13:40:34.934032Z"
    },
    "scrolled": true
   },
   "outputs": [
    {
     "name": "stdout",
     "output_type": "stream",
     "text": [
      "          uuid  eid                          udmap               common_ts  \\\r\n",
      "0            0   26  {\"key3\":\"67804\",\"key2\":\"650\"} 2023-07-18 09:44:28.244   \r\n",
      "1            1   26  {\"key3\":\"67804\",\"key2\":\"484\"} 2023-07-11 13:42:21.469   \r\n",
      "2            2    8                        unknown 2023-07-15 07:49:53.040   \r\n",
      "3            3   11                        unknown 2023-07-16 00:36:55.688   \r\n",
      "4            4   26  {\"key3\":\"67804\",\"key2\":\"650\"} 2023-07-16 07:15:51.442   \r\n",
      "...        ...  ...                            ...                     ...   \r\n",
      "620351  620351    2      {\"key4\":\"14\",\"key5\":\"14\"} 2023-07-10 12:07:30.527   \r\n",
      "620352  620352    8                        unknown 2023-07-16 06:51:42.305   \r\n",
      "620353  620353   41    {\"key1\":\"274\",\"key2\":\"446\"} 2023-07-09 08:41:18.584   \r\n",
      "620354  620354   26  {\"key3\":\"67804\",\"key2\":\"650\"} 2023-07-18 04:02:40.171   \r\n",
      "620355  620355   41   {\"key1\":\"1398\",\"key2\":\"289\"} 2023-07-13 08:03:18.023   \r\n",
      "\r\n",
      "        x1  x2  x3   x4   x5  x6  ...  key4  key5  key6  key7  key8  key9  \\\r\n",
      "0        4   0  41  107  206   1  ...   0.0   0.0   0.0   0.0   0.0   0.0   \r\n",
      "1        4   0  41   24  283   4  ...   0.0   0.0   0.0   0.0   0.0   0.0   \r\n",
      "2        4   0  41   71  288   4  ...   0.0   0.0   0.0   0.0   0.0   0.0   \r\n",
      "3        1   3  41   17  366   1  ...   0.0   0.0   0.0   0.0   0.0   0.0   \r\n",
      "4        0   3  41   92  383   4  ...   0.0   0.0   0.0   0.0   0.0   0.0   \r\n",
      "...     ..  ..  ..  ...  ...  ..  ...   ...   ...   ...   ...   ...   ...   \r\n",
      "620351   4   0  41  104   37   4  ...  14.0  14.0   0.0   0.0   0.0   0.0   \r\n",
      "620352   4   0  41  104   37   1  ...   0.0   0.0   0.0   0.0   0.0   0.0   \r\n",
      "620353   0   2  41  104   37   4  ...   0.0   0.0   0.0   0.0   0.0   0.0   \r\n",
      "620354   4   0  41   17  366   1  ...   0.0   0.0   0.0   0.0   0.0   0.0   \r\n",
      "620355   2   2  41   71  288   4  ...   0.0   0.0   0.0   0.0   0.0   0.0   \r\n",
      "\r\n",
      "        eid_freq  eid_mean  udmap_isunknown  common_ts_hour  \r\n",
      "0         174811  0.072707                0               9  \r\n",
      "1         174811  0.072707                0              13  \r\n",
      "2          51591  0.097401                1               7  \r\n",
      "3          53698  0.098421                1               0  \r\n",
      "4         174811  0.072707                0               7  \r\n",
      "...          ...       ...              ...             ...  \r\n",
      "620351     51071  0.139414                0              12  \r\n",
      "620352     51591  0.097401                1               6  \r\n",
      "620353     17539  0.377388                0               8  \r\n",
      "620354    174811  0.072707                0               4  \r\n",
      "620355     17539  0.377388                0               8  \r\n",
      "\r\n",
      "[620356 rows x 26 columns]\r\n",
      "aa\r\n",
      "          key1   key2     key3  key4  key5  key6  key7  key8  key9\r\n",
      "0          0.0  650.0  67804.0   0.0   0.0   0.0   0.0   0.0   0.0\r\n",
      "1          0.0  484.0  67804.0   0.0   0.0   0.0   0.0   0.0   0.0\r\n",
      "2          0.0    0.0      0.0   0.0   0.0   0.0   0.0   0.0   0.0\r\n",
      "3          0.0    0.0      0.0   0.0   0.0   0.0   0.0   0.0   0.0\r\n",
      "4          0.0  650.0  67804.0   0.0   0.0   0.0   0.0   0.0   0.0\r\n",
      "...        ...    ...      ...   ...   ...   ...   ...   ...   ...\r\n",
      "620351     0.0    0.0      0.0  14.0  14.0   0.0   0.0   0.0   0.0\r\n",
      "620352     0.0    0.0      0.0   0.0   0.0   0.0   0.0   0.0   0.0\r\n",
      "620353   274.0  446.0      0.0   0.0   0.0   0.0   0.0   0.0   0.0\r\n",
      "620354     0.0  650.0  67804.0   0.0   0.0   0.0   0.0   0.0   0.0\r\n",
      "620355  1398.0  289.0      0.0   0.0   0.0   0.0   0.0   0.0   0.0\r\n",
      "\r\n",
      "[620356 rows x 9 columns]\r\n"
     ]
    }
   ],
   "source": [
    "# print(train_data)\n",
    "# print('aa')\n",
    "# print(train_udmap_df)"
   ]
  },
  {
   "cell_type": "code",
   "execution_count": 4,
   "id": "dafa2fd8-45c7-4306-a9f1-637ec32b4bf6",
   "metadata": {
    "execution": {
     "iopub.execute_input": "2023-08-14T13:19:23.302684Z",
     "iopub.status.busy": "2023-08-14T13:19:23.302342Z",
     "iopub.status.idle": "2023-08-14T13:19:23.425913Z",
     "shell.execute_reply": "2023-08-14T13:19:23.424624Z",
     "shell.execute_reply.started": "2023-08-14T13:19:23.302656Z"
    },
    "scrolled": true,
    "tags": []
   },
   "outputs": [],
   "source": [
    "train_data = pd.concat([train_data, train_udmap_df], axis=1)\n",
    "test_data = pd.concat([test_data, test_udmap_df], axis=1)"
   ]
  },
  {
   "cell_type": "code",
   "execution_count": 5,
   "id": "ac7359a2-80e0-4f24-a56b-c5fe1c2def5b",
   "metadata": {
    "execution": {
     "iopub.execute_input": "2023-08-14T13:19:23.428120Z",
     "iopub.status.busy": "2023-08-14T13:19:23.427628Z",
     "iopub.status.idle": "2023-08-14T13:19:23.500080Z",
     "shell.execute_reply": "2023-08-14T13:19:23.499019Z",
     "shell.execute_reply.started": "2023-08-14T13:19:23.428086Z"
    },
    "scrolled": true,
    "tags": []
   },
   "outputs": [],
   "source": [
    "train_data['eid_freq'] = train_data['eid'].map(train_data['eid'].value_counts())\n",
    "test_data['eid_freq'] = test_data['eid'].map(train_data['eid'].value_counts())\n",
    "\n",
    "train_data['eid_mean'] = train_data['eid'].map(train_data.groupby('eid')['target'].mean())\n",
    "test_data['eid_mean'] = test_data['eid'].map(train_data.groupby('eid')['target'].mean())"
   ]
  },
  {
   "cell_type": "code",
   "execution_count": 6,
   "id": "0b3c5362-df8d-4238-9d93-d3b4686786b8",
   "metadata": {
    "execution": {
     "iopub.execute_input": "2023-08-14T13:19:23.502969Z",
     "iopub.status.busy": "2023-08-14T13:19:23.502517Z",
     "iopub.status.idle": "2023-08-14T13:19:23.579009Z",
     "shell.execute_reply": "2023-08-14T13:19:23.577922Z",
     "shell.execute_reply.started": "2023-08-14T13:19:23.502938Z"
    },
    "scrolled": true,
    "tags": []
   },
   "outputs": [],
   "source": [
    "train_data['udmap_isunknown'] = (train_data['udmap'] == 'unknown').astype(int)\n",
    "test_data['udmap_isunknown'] = (test_data['udmap'] == 'unknown').astype(int)"
   ]
  },
  {
   "cell_type": "code",
   "execution_count": 7,
   "id": "204a7cd1-73a4-4d1d-b900-ba9bec105efd",
   "metadata": {
    "execution": {
     "iopub.execute_input": "2023-08-14T13:19:23.580638Z",
     "iopub.status.busy": "2023-08-14T13:19:23.580260Z",
     "iopub.status.idle": "2023-08-14T13:19:23.687768Z",
     "shell.execute_reply": "2023-08-14T13:19:23.686711Z",
     "shell.execute_reply.started": "2023-08-14T13:19:23.580608Z"
    },
    "scrolled": true,
    "tags": []
   },
   "outputs": [],
   "source": [
    "train_data['common_ts_hour'] = train_data['common_ts'].dt.hour\n",
    "test_data['common_ts_hour'] = test_data['common_ts'].dt.hour"
   ]
  },
  {
   "cell_type": "code",
   "execution_count": 8,
   "id": "699e4322",
   "metadata": {},
   "outputs": [
    {
     "name": "stdout",
     "output_type": "stream",
     "text": [
      "          uuid  eid                          udmap               common_ts  \\\n",
      "0            0   26  {\"key3\":\"67804\",\"key2\":\"650\"} 2023-07-18 09:44:28.244   \n",
      "1            1   26  {\"key3\":\"67804\",\"key2\":\"484\"} 2023-07-11 13:42:21.469   \n",
      "2            2    8                        unknown 2023-07-15 07:49:53.040   \n",
      "3            3   11                        unknown 2023-07-16 00:36:55.688   \n",
      "4            4   26  {\"key3\":\"67804\",\"key2\":\"650\"} 2023-07-16 07:15:51.442   \n",
      "...        ...  ...                            ...                     ...   \n",
      "620351  620351    2      {\"key4\":\"14\",\"key5\":\"14\"} 2023-07-10 12:07:30.527   \n",
      "620352  620352    8                        unknown 2023-07-16 06:51:42.305   \n",
      "620353  620353   41    {\"key1\":\"274\",\"key2\":\"446\"} 2023-07-09 08:41:18.584   \n",
      "620354  620354   26  {\"key3\":\"67804\",\"key2\":\"650\"} 2023-07-18 04:02:40.171   \n",
      "620355  620355   41   {\"key1\":\"1398\",\"key2\":\"289\"} 2023-07-13 08:03:18.023   \n",
      "\n",
      "        x1  x2  x3   x4   x5  x6  ...  key4  key5  key6  key7  key8  key9  \\\n",
      "0        4   0  41  107  206   1  ...   0.0   0.0   0.0   0.0   0.0   0.0   \n",
      "1        4   0  41   24  283   4  ...   0.0   0.0   0.0   0.0   0.0   0.0   \n",
      "2        4   0  41   71  288   4  ...   0.0   0.0   0.0   0.0   0.0   0.0   \n",
      "3        1   3  41   17  366   1  ...   0.0   0.0   0.0   0.0   0.0   0.0   \n",
      "4        0   3  41   92  383   4  ...   0.0   0.0   0.0   0.0   0.0   0.0   \n",
      "...     ..  ..  ..  ...  ...  ..  ...   ...   ...   ...   ...   ...   ...   \n",
      "620351   4   0  41  104   37   4  ...  14.0  14.0   0.0   0.0   0.0   0.0   \n",
      "620352   4   0  41  104   37   1  ...   0.0   0.0   0.0   0.0   0.0   0.0   \n",
      "620353   0   2  41  104   37   4  ...   0.0   0.0   0.0   0.0   0.0   0.0   \n",
      "620354   4   0  41   17  366   1  ...   0.0   0.0   0.0   0.0   0.0   0.0   \n",
      "620355   2   2  41   71  288   4  ...   0.0   0.0   0.0   0.0   0.0   0.0   \n",
      "\n",
      "        eid_freq  eid_mean  udmap_isunknown  common_ts_hour  \n",
      "0         174811  0.072707                0               9  \n",
      "1         174811  0.072707                0              13  \n",
      "2          51591  0.097401                1               7  \n",
      "3          53698  0.098421                1               0  \n",
      "4         174811  0.072707                0               7  \n",
      "...          ...       ...              ...             ...  \n",
      "620351     51071  0.139414                0              12  \n",
      "620352     51591  0.097401                1               6  \n",
      "620353     17539  0.377388                0               8  \n",
      "620354    174811  0.072707                0               4  \n",
      "620355     17539  0.377388                0               8  \n",
      "\n",
      "[620356 rows x 26 columns]\n",
      "          uuid  eid                          udmap               common_ts  \\\n",
      "0            0   11                        unknown 2023-07-17 11:47:21.029   \n",
      "1            1   35                        unknown 2023-07-16 23:48:49.947   \n",
      "2            2   34  {\"key3\":\"73457\",\"key2\":\"936\"} 2023-07-10 04:57:46.999   \n",
      "3            3    0               {\"key3\":\"18771\"} 2023-07-14 04:23:43.754   \n",
      "4            4   26  {\"key3\":\"67804\",\"key2\":\"650\"} 2023-07-16 14:00:18.904   \n",
      "...        ...  ...                            ...                     ...   \n",
      "206780  206780   25                        unknown 2023-07-16 02:43:19.340   \n",
      "206781  206781   11                        unknown 2023-07-15 23:45:11.777   \n",
      "206782  206782    0               {\"key3\":\"87725\"} 2023-07-11 13:21:06.272   \n",
      "206783  206783   34               {\"key3\":\"65765\"} 2023-07-17 09:19:13.929   \n",
      "206784  206784   35                        unknown 2023-07-11 08:54:25.568   \n",
      "\n",
      "        x1  x2  x3   x4   x5  x6  ...  key4  key5  key6  key7  key8  key9  \\\n",
      "0        4   1  41   85  343   4  ...   0.0   0.0   0.0   0.0   0.0   0.0   \n",
      "1        4   0  41   24  283   1  ...   0.0   0.0   0.0   0.0   0.0   0.0   \n",
      "2        4   2  41   71  288   4  ...   0.0   0.0   0.0   0.0   0.0   0.0   \n",
      "3        1   0  41  104   37   4  ...   0.0   0.0   0.0   0.0   0.0   0.0   \n",
      "4        0   1  41  115  217   4  ...   0.0   0.0   0.0   0.0   0.0   0.0   \n",
      "...     ..  ..  ..  ...  ...  ..  ...   ...   ...   ...   ...   ...   ...   \n",
      "206780   4   1  41   10  357   1  ...   0.0   0.0   0.0   0.0   0.0   0.0   \n",
      "206781   4   1  41  107  286   1  ...   0.0   0.0   0.0   0.0   0.0   0.0   \n",
      "206782   4   3  41  151  237   4  ...   0.0   0.0   0.0   0.0   0.0   0.0   \n",
      "206783   0   1  41  104  250   1  ...   0.0   0.0   0.0   0.0   0.0   0.0   \n",
      "206784   4   0  41  104  250   4  ...   0.0   0.0   0.0   0.0   0.0   0.0   \n",
      "\n",
      "        eid_freq  eid_mean  udmap_isunknown  common_ts_hour  \n",
      "0          53698  0.098421                1              11  \n",
      "1          82643  0.103457                1              23  \n",
      "2          49500  0.182384                0               4  \n",
      "3           5355  0.069281                0               4  \n",
      "4         174811  0.072707                0              14  \n",
      "...          ...       ...              ...             ...  \n",
      "206780      5274  0.097270                1               2  \n",
      "206781     53698  0.098421                1              23  \n",
      "206782      5355  0.069281                0              13  \n",
      "206783     49500  0.182384                0               9  \n",
      "206784     82643  0.103457                1               8  \n",
      "\n",
      "[206785 rows x 25 columns]\n"
     ]
    }
   ],
   "source": [
    "print(train_data)\n",
    "print(test_data)"
   ]
  },
  {
   "cell_type": "code",
   "execution_count": 7,
   "id": "43fd2721-76ef-4453-943d-3cca2d86516c",
   "metadata": {
    "execution": {
     "iopub.execute_input": "2023-08-14T13:19:23.689965Z",
     "iopub.status.busy": "2023-08-14T13:19:23.689105Z",
     "iopub.status.idle": "2023-08-14T13:19:31.019713Z",
     "shell.execute_reply": "2023-08-14T13:19:31.018595Z",
     "shell.execute_reply.started": "2023-08-14T13:19:23.689929Z"
    },
    "scrolled": true,
    "tags": []
   },
   "outputs": [
    {
     "data": {
      "text/plain": [
       "DecisionTreeClassifier(ccp_alpha=0.0, class_weight=None, criterion='gini',\n",
       "                       max_depth=None, max_features=None, max_leaf_nodes=None,\n",
       "                       min_impurity_decrease=0.0, min_impurity_split=None,\n",
       "                       min_samples_leaf=1, min_samples_split=2,\n",
       "                       min_weight_fraction_leaf=0.0, presort='deprecated',\n",
       "                       random_state=None, splitter='best')"
      ]
     },
     "execution_count": 7,
     "metadata": {},
     "output_type": "execute_result"
    }
   ],
   "source": [
    "import lightgbm as lgb\n",
    "from sklearn.linear_model import LogisticRegression\n",
    "from sklearn.tree import DecisionTreeClassifier\n",
    "\n",
    "clf = DecisionTreeClassifier()\n",
    "clf.fit(\n",
    "    train_data.drop(['udmap', 'common_ts', 'uuid', 'target'], axis=1),\n",
    "    train_data['target']\n",
    ")"
   ]
  },
  {
   "cell_type": "code",
   "execution_count": 8,
   "id": "f0c9bb8c-7f2c-4031-9cb8-ff928bd4fc9e",
   "metadata": {
    "execution": {
     "iopub.execute_input": "2023-08-14T13:19:31.022321Z",
     "iopub.status.busy": "2023-08-14T13:19:31.021561Z",
     "iopub.status.idle": "2023-08-14T13:19:31.473897Z",
     "shell.execute_reply": "2023-08-14T13:19:31.472726Z",
     "shell.execute_reply.started": "2023-08-14T13:19:31.022284Z"
    },
    "scrolled": true,
    "tags": []
   },
   "outputs": [],
   "source": [
    "pd.DataFrame({\n",
    "    'uuid': test_data['uuid'],\n",
    "    'target': clf.predict(test_data.drop(['udmap', 'common_ts', 'uuid'], axis=1))\n",
    "}).to_csv('submit.csv', index=None)"
   ]
  }
 ],
 "metadata": {
  "kernelspec": {
   "display_name": "base",
   "language": "python",
   "name": "python3"
  },
  "language_info": {
   "codemirror_mode": {
    "name": "ipython",
    "version": 3
   },
   "file_extension": ".py",
   "mimetype": "text/x-python",
   "name": "python",
   "nbconvert_exporter": "python",
   "pygments_lexer": "ipython3",
   "version": "3.9.13"
  },
  "widgets": {
   "application/vnd.jupyter.widget-state+json": {
    "state": {},
    "version_major": 2,
    "version_minor": 0
   }
  }
 },
 "nbformat": 4,
 "nbformat_minor": 5
}
